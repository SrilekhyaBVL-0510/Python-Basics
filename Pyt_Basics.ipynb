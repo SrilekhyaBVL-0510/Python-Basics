{
 "cells": [
  {
   "cell_type": "code",
   "execution_count": 44,
   "id": "df102e8b-2708-46c1-be86-1ff141ea2bdd",
   "metadata": {},
   "outputs": [
    {
     "name": "stdout",
     "output_type": "stream",
     "text": [
      "|-------|\n",
      "|       |\n",
      "|       |\n",
      "|       |\n",
      "|_______|\n"
     ]
    }
   ],
   "source": [
    "#Drawing shapes using print\n",
    "print(\"|-------|\")\n",
    "print(\"|       |\")\n",
    "print(\"|       |\")\n",
    "print(\"|       |\")\n",
    "print(\"|_______|\")"
   ]
  },
  {
   "cell_type": "code",
   "execution_count": 31,
   "id": "6923007d-1421-46d4-aa0d-568086f6ee9e",
   "metadata": {},
   "outputs": [
    {
     "name": "stdout",
     "output_type": "stream",
     "text": [
      "There was a guy named Luffy ,\n",
      "he is 23 old.\n",
      "He liked the name Sanji,\n",
      "But he didn't like being 23.\n"
     ]
    }
   ],
   "source": [
    "name = \"Luffy\" #strings\n",
    "age = 23 #integer\n",
    "isMale = True #boolean\n",
    "print(\"There was a guy named \"+name+\" ,\")\n",
    "print(\"he is \"+str(age)+\" old.\")\n",
    "name = \"Sanji\"\n",
    "print(\"He liked the name \"+name+\",\")\n",
    "print(\"But he didn't like being \"+str(age)+\".\");"
   ]
  },
  {
   "cell_type": "code",
   "execution_count": 20,
   "id": "b8cd1043-391d-4f5f-8711-98eed7a0220f",
   "metadata": {},
   "outputs": [
    {
     "name": "stdout",
     "output_type": "stream",
     "text": [
      "Jupyter\n",
      "Notebook\n",
      "Jupyter\"Notebook\n",
      "Jupyter Notebook\n",
      "jupyter\n",
      "JUPYTER\n",
      "False\n",
      "True\n",
      "7\n",
      "J\n",
      "3\n",
      "Notepad\n"
     ]
    }
   ],
   "source": [
    "#Working with Strings\n",
    "print(\"Jupyter\\nNotebook\") #insert a new line\n",
    "print(\"Jupyter\\\"Notebook\") #backslash as escape character\n",
    "word = \"Jupyter\"\n",
    "suffix = \"Notebook\"\n",
    "print(word+\" \"+suffix) #concatenation\n",
    "print(word.lower())\n",
    "print(word.upper())\n",
    "print(word.isupper())\n",
    "print(word.upper().isupper())\n",
    "print(len(word))\n",
    "print(word[0])\n",
    "print(word.index(\"yte\"))\n",
    "#print(word.index(\"abc\"))#gives error\n",
    "print(suffix.replace(\"book\",\"pad\"))"
   ]
  },
  {
   "cell_type": "code",
   "execution_count": 43,
   "id": "7693dcda-d5d1-4c84-80a3-3e514ea97940",
   "metadata": {},
   "outputs": [
    {
     "name": "stdout",
     "output_type": "stream",
     "text": [
      "5\n",
      "-20\n",
      "33\n",
      "5\n",
      "<class 'str'>\n",
      "5\n",
      "400.0\n",
      "20\n",
      "5\n",
      "9\n",
      "8\n",
      "8\n",
      "4\n",
      "5\n",
      "5.0\n"
     ]
    }
   ],
   "source": [
    "#working with number\n",
    "print(5)\n",
    "print(-20)\n",
    "print(3*(6+5))#all math operations(bodmas rule)\n",
    "num = 5\n",
    "print(num)\n",
    "print(type(str(num)))\n",
    "num = -5\n",
    "print(abs(num))\n",
    "print(pow(20,2)) #num,how much power it should be raised to\n",
    "print(max(5,20)) #larger of 2 numbs\n",
    "print(min(5,20))\n",
    "print(round(8.987))\n",
    "print(round(8.2))\n",
    "print(round(8.5))\n",
    "#importing few funcs\n",
    "from math import *\n",
    "print(floor(4.98))\n",
    "print(ceil(4.98))\n",
    "print(sqrt(25))"
   ]
  },
  {
   "cell_type": "code",
   "execution_count": 49,
   "id": "94484ba6-f082-43c5-8c8a-f8da8a427827",
   "metadata": {},
   "outputs": [
    {
     "name": "stdin",
     "output_type": "stream",
     "text": [
      "Enter your name:  siri\n",
      "Enter your age:  23\n"
     ]
    },
    {
     "name": "stdout",
     "output_type": "stream",
     "text": [
      "Hello, siri! You are 23\n"
     ]
    }
   ],
   "source": [
    "#getting input from user\n",
    "name = input(\"Enter your name: \")\n",
    "age = input(\"Enter your age: \")\n",
    "print(\"Hello, \"+name+\"! You are \"+ age)"
   ]
  },
  {
   "cell_type": "code",
   "execution_count": 52,
   "id": "c76bcdf3-220f-4883-8474-4e4107a69e62",
   "metadata": {},
   "outputs": [
    {
     "name": "stdin",
     "output_type": "stream",
     "text": [
      "Enter number 1:  5\n",
      "Enter number 2:  9.3\n"
     ]
    },
    {
     "name": "stdout",
     "output_type": "stream",
     "text": [
      "14.3\n"
     ]
    }
   ],
   "source": [
    "#building basic calculator\n",
    "# num1 = input(\"Enter number 1: \") #will be taken as strings\n",
    "# num2 = input(\"Enter number 2: \") \n",
    "# result = num1+num2\n",
    "# print(result)\n",
    "\n",
    "num1 = input(\"Enter number 1: \")\n",
    "num2 = input(\"Enter number 2: \")\n",
    "result = float(num1) + float(num2)\n",
    "print(result)"
   ]
  },
  {
   "cell_type": "code",
   "execution_count": 54,
   "id": "eab6b871-57f6-4070-bd02-da553961aba4",
   "metadata": {},
   "outputs": [
    {
     "name": "stdin",
     "output_type": "stream",
     "text": [
      "Enter a color:  black\n",
      "Enter a plural noun:  Oranges\n",
      "Enter a celebrity name:  Nani\n"
     ]
    },
    {
     "name": "stdout",
     "output_type": "stream",
     "text": [
      "Roses are black\n",
      "Oranges are blue\n",
      "I love Nani\n"
     ]
    }
   ],
   "source": [
    "#mad libs game: enter a words and put them into a story\n",
    "# print(\"Roses are red\")\n",
    "# print(\"Violets are blue\")\n",
    "# print(\"I love you\")\n",
    "\n",
    "color = input(\"Enter a color: \")\n",
    "plural_noun = input(\"Enter a plural noun: \")\n",
    "celebrity_name = input(\"Enter a celebrity name: \")\n",
    "\n",
    "print(\"Roses are \"+color)\n",
    "print(plural_noun +\" are blue\")\n",
    "print(\"I love \"+celebrity_name)"
   ]
  },
  {
   "cell_type": "code",
   "execution_count": 29,
   "id": "9a73da09-193b-41c4-80af-91d11840d25c",
   "metadata": {},
   "outputs": [
    {
     "name": "stdout",
     "output_type": "stream",
     "text": [
      "['gokul', 'siri', 'abc', 'xyz']\n",
      "abc\n",
      "xyz\n",
      "['siri', 'abc']\n",
      "['gokul', 'siri', 'pqr', 'xyz']\n"
     ]
    }
   ],
   "source": [
    "#Lists\n",
    "# friends = ['gokul','siri',5,True]\n",
    "friends = ['gokul','siri','abc','xyz']\n",
    "#  index       0       1      2     3\n",
    "#  index       -4      -3     -2     -1\n",
    "print(friends)\n",
    "print(friends[2]) \n",
    "print(friends[-1])\n",
    "print(friends[1:3])\n",
    "friends[2] = 'pqr'\n",
    "print(friends)"
   ]
  },
  {
   "cell_type": "code",
   "execution_count": 38,
   "id": "3f251859-4ab5-4a1e-b10a-120f27edf0c8",
   "metadata": {},
   "outputs": [
    {
     "name": "stdout",
     "output_type": "stream",
     "text": [
      "0\n",
      "['gokul', 'siri', 'siri', 'siri']\n",
      "[2, 5, 20, 29, 30]\n",
      "[30, 29, 20, 5, 2]\n",
      "['gokul', 'siri', 'siri', 'siri']\n"
     ]
    }
   ],
   "source": [
    "#list functions\n",
    "lucky_numbers = [5,20,2,29,30]\n",
    "# friends.extend(lucky_numbers)#append the lists\n",
    "# print(friends)\n",
    "# friends.append('8172')#also appends\n",
    "# print(friends)\n",
    "# friends.insert(2,'harry')#index,value_tobe_inserted\n",
    "# print(friends)\n",
    "# friends.remove('harry')\n",
    "# print(friends)\n",
    "# friends.clear()\n",
    "# print(friends)\n",
    "# friends.pop()#removes the last element\n",
    "# print(friends)\n",
    "# friends.index('gokul')\n",
    "print(friends.index('gokul'))#gives index\n",
    "# friends.insert(2,'siri')\n",
    "# print(friends.count('siri'))\n",
    "friends.sort()\n",
    "print(friends)\n",
    "lucky_numbers.sort()\n",
    "print(lucky_numbers)\n",
    "lucky_numbers.reverse()\n",
    "print(lucky_numbers)\n",
    "friends2 = friends.copy()\n",
    "print(friends2)"
   ]
  },
  {
   "cell_type": "code",
   "execution_count": 42,
   "id": "ee1a676a-b4a2-411d-85c2-e359911f7129",
   "metadata": {},
   "outputs": [
    {
     "name": "stdout",
     "output_type": "stream",
     "text": [
      "5\n",
      "[(4, 5), (7, 9), (89, 29)]\n"
     ]
    }
   ],
   "source": [
    "#tuples: container which stores different values like lists, but tuple is different from list\n",
    "coordinates = (4,5)#tuple is immutable i.e we cannot modify the tuple unlike lists. we cant add, remove, insert\n",
    "# coordinates[1] = 10 is not possible\n",
    "print(coordinates[1])\n",
    "coordinates = [(4,5),(7,9),(89,29)]#list of tuples\n",
    "print(coordinates)"
   ]
  },
  {
   "cell_type": "code",
   "execution_count": 44,
   "id": "bb8f2163-8552-4e31-a772-692e3fd6baa5",
   "metadata": {},
   "outputs": [
    {
     "name": "stdout",
     "output_type": "stream",
     "text": [
      "5\n",
      "9421\n"
     ]
    }
   ],
   "source": [
    "#functions\n",
    "def sum(a,b):\n",
    "    return a+b\n",
    "\n",
    "print(sum(2,3))\n",
    "print(sum(876,8545))"
   ]
  },
  {
   "cell_type": "code",
   "execution_count": 52,
   "id": "7e8718f3-b3f4-4c7b-941c-c3da3b6a7990",
   "metadata": {},
   "outputs": [
    {
     "name": "stdout",
     "output_type": "stream",
     "text": [
      "Gokul is Male and is tall\n"
     ]
    }
   ],
   "source": [
    "#if statements\n",
    "is_male = True\n",
    "is_Tall = True\n",
    "if is_male and is_Tall:\n",
    "    print(\"Gokul is Male and is tall\")\n",
    "elif is_Tall and not(is_male):\n",
    "    print(\"Gokul is Tall but not male\")\n",
    "elif is_male and not(is_Tall):\n",
    "    print(\"Gokul is male and short\")\n",
    "else:\n",
    "    print(\"Gokul is neither male nor tall\")"
   ]
  },
  {
   "cell_type": "code",
   "execution_count": 54,
   "id": "35877b1d-db89-4e87-9938-838861c5c21a",
   "metadata": {},
   "outputs": [
    {
     "name": "stdout",
     "output_type": "stream",
     "text": [
      "5 is greatest\n"
     ]
    }
   ],
   "source": [
    "def max_num(a,b,c):\n",
    "    if a>b and a>c:\n",
    "        return a\n",
    "    elif b>a and b>c:\n",
    "        return b\n",
    "    else:\n",
    "        return c\n",
    "\n",
    "print(str(max_num(3,4,5)) + \" is greatest\")"
   ]
  },
  {
   "cell_type": "code",
   "execution_count": 62,
   "id": "6e39de6a-a6d0-4157-bab7-77680933a86b",
   "metadata": {},
   "outputs": [
    {
     "name": "stdin",
     "output_type": "stream",
     "text": [
      "Enter first number:  20\n",
      "Enter Second number:  5\n",
      "Enter operator:  &\n"
     ]
    },
    {
     "name": "stdout",
     "output_type": "stream",
     "text": [
      "20 & 5 is Invalid Operator\n"
     ]
    }
   ],
   "source": [
    "#Basic calculator\n",
    "def calculator(num1,num2,op):\n",
    "    if op == \"+\":\n",
    "        return num1+num2\n",
    "    elif op == \"-\":\n",
    "        return num1-num2\n",
    "    elif op == \"*\":\n",
    "        return num1*num2\n",
    "    elif op == \"/\":\n",
    "        return num1/num2\n",
    "    elif op == \"%\":\n",
    "        return num1%num2\n",
    "    else:\n",
    "        return \"Invalid Operator\"\n",
    "\n",
    "num1 = int(input(\"Enter first number: \"))\n",
    "num2 = int(input(\"Enter Second number: \"))\n",
    "op = input(\"Enter operator: \")\n",
    "\n",
    "print(str(num1)+\" \"+op+\" \"+str(num2)+\" is \"+ str(calculator(num1,num2,op)))\n"
   ]
  },
  {
   "cell_type": "code",
   "execution_count": 5,
   "id": "86014974-ae36-4ca6-b79f-3b5e33b93d23",
   "metadata": {},
   "outputs": [
    {
     "name": "stdout",
     "output_type": "stream",
     "text": [
      "January\n",
      "March\n",
      "Not a valid key\n",
      "February\n"
     ]
    }
   ],
   "source": [
    "#dictionaries : key,value pair\n",
    "months = {\"Jan\" : \"January\",\"Feb\":\"February\",\"Mar\":\"March\"}#key:value pair. Key should be unique\n",
    "print(months[\"Jan\"])\n",
    "print(months.get(\"Mar\"))\n",
    "print(months.get(\"Nov\",\"Not a valid key\")) # if key is not present, it prints default value\n",
    "print(months.get(\"Feb\",\"Not a valid key\"))"
   ]
  },
  {
   "cell_type": "code",
   "execution_count": 11,
   "id": "68ce2afd-33da-417d-8632-3579d5a9bcfa",
   "metadata": {},
   "outputs": [
    {
     "name": "stdout",
     "output_type": "stream",
     "text": [
      "1\n",
      "2\n",
      "3\n",
      "4\n",
      "5\n",
      "6\n",
      "7\n",
      "8\n",
      "9\n",
      "10\n"
     ]
    }
   ],
   "source": [
    "#while loop\n",
    "i = 1\n",
    "while i <= 10:\n",
    "    print(i)\n",
    "    i += 1\n"
   ]
  },
  {
   "cell_type": "code",
   "execution_count": 15,
   "id": "ef31cedf-7236-46b5-9ae4-3d9218e0e44c",
   "metadata": {},
   "outputs": [
    {
     "name": "stdin",
     "output_type": "stream",
     "text": [
      "Enter your guess:  pineapple\n"
     ]
    },
    {
     "name": "stdout",
     "output_type": "stream",
     "text": [
      "Hurrah! You won\n"
     ]
    }
   ],
   "source": [
    "#building a guessing game: we have a secret word. User should keep on guessing\n",
    "secretWord = \"pineapple\" #secret word that user should guess\n",
    "guess = \"\" #to store the guesses\n",
    "totalChances = 3\n",
    "guessCount = 0\n",
    "outOfGuesses = False\n",
    "\n",
    "while guess != secretWord and not(outOfGuesses):\n",
    "    if guessCount < totalChances:\n",
    "        guess = input(\"Enter your guess: \")\n",
    "        guessCount += 1\n",
    "    else:\n",
    "        outOfGuesses = True\n",
    "\n",
    "if not(outOfGuesses):\n",
    "    print(\"Hurrah! You won\")\n",
    "else:\n",
    "    print(\"You Lost!\")"
   ]
  },
  {
   "cell_type": "code",
   "execution_count": 26,
   "id": "dc942a06-bad8-4112-8442-934cfaeac64c",
   "metadata": {},
   "outputs": [
    {
     "name": "stdout",
     "output_type": "stream",
     "text": [
      "0\n",
      "1\n",
      "2\n",
      "3\n",
      "4\n",
      "5\n",
      "6\n",
      "7\n",
      "8\n",
      "9\n",
      "10\n",
      "----------\n",
      "J\n",
      "u\n",
      "p\n",
      "y\n",
      "t\n",
      "e\n",
      "r\n",
      " \n",
      "N\n",
      "o\n",
      "t\n",
      "e\n",
      "b\n",
      "o\n",
      "o\n",
      "k\n",
      "----------\n",
      "abc\n",
      "xyz\n",
      "oiuy\n",
      "----------\n"
     ]
    }
   ],
   "source": [
    "#for loop\n",
    "for i in range(11):\n",
    "    print(i)\n",
    "print(\"----------\")\n",
    "for letter in \"Jupyter Notebook\":\n",
    "    print(letter)\n",
    "print(\"----------\")\n",
    "friends = [\"abc\",\"xyz\",\"oiuy\"]\n",
    "length = len(friends)\n",
    "for index in range(length):\n",
    "    print(friends[index])\n",
    "print(\"----------\")"
   ]
  },
  {
   "cell_type": "code",
   "execution_count": 33,
   "id": "f3ee8944-923f-40c6-af24-b7ac665ce1d4",
   "metadata": {},
   "outputs": [
    {
     "name": "stdout",
     "output_type": "stream",
     "text": [
      "64\n"
     ]
    }
   ],
   "source": [
    "#exponent function\n",
    "# print(2**3)#cubes\n",
    "def raiseToPower(baseNum,powerNum):\n",
    "    exp = 1\n",
    "    for i in range(powerNum):\n",
    "        exp = exp * baseNum\n",
    "    return exp\n",
    "\n",
    "print(raiseToPower(2,6))"
   ]
  },
  {
   "cell_type": "code",
   "execution_count": 40,
   "id": "f304e39e-047b-408b-a70a-2ab2d75bc441",
   "metadata": {},
   "outputs": [
    {
     "name": "stdout",
     "output_type": "stream",
     "text": [
      "1\n",
      "2\n",
      "3\n",
      "4\n",
      "5\n",
      "6\n",
      "7\n",
      "8\n",
      "9\n",
      "0\n"
     ]
    }
   ],
   "source": [
    "#2d lists and Nested loops\n",
    "numGrid = [\n",
    "    [1,2,3],\n",
    "    [4,5,6],\n",
    "    [7,8,9],\n",
    "    [0]\n",
    "]\n",
    "#print(numGrid[2][1])\n",
    "for row in numGrid:\n",
    "    for column in row:\n",
    "        print(column)"
   ]
  },
  {
   "cell_type": "code",
   "execution_count": 47,
   "id": "761e8fdc-6d23-4384-bbfe-8ad5bbab76a0",
   "metadata": {},
   "outputs": [
    {
     "name": "stdin",
     "output_type": "stream",
     "text": [
      "Enter a word:  In the Air\n"
     ]
    },
    {
     "name": "stdout",
     "output_type": "stream",
     "text": [
      "Sn ths Ssr\n"
     ]
    }
   ],
   "source": [
    "#building a basic translator\n",
    "# own lang: all vowels becomes s\n",
    "def translate(phrase):\n",
    "    res = \"\"\n",
    "    for letter in phrase:\n",
    "        if letter.lower() in \"aeiou\":\n",
    "            if letter.isupper():\n",
    "                res = res + \"S\"\n",
    "            else:\n",
    "                res = res + \"s\"\n",
    "        else:\n",
    "            res = res + letter\n",
    "    return res\n",
    "print(translate(input(\"Enter a word: \")))"
   ]
  },
  {
   "cell_type": "code",
   "execution_count": 57,
   "id": "6f687b63-fe59-4de2-a741-25aa8dc048a9",
   "metadata": {},
   "outputs": [
    {
     "name": "stdout",
     "output_type": "stream",
     "text": [
      "division by zero\n"
     ]
    }
   ],
   "source": [
    "#try-except \n",
    "try:\n",
    "    value = 10/0\n",
    "    num = int(input(\"Enter a num: \"))\n",
    "    print(num)\n",
    "except ZeroDivisionError as err:\n",
    "    #print(\"Division by Zero\")\n",
    "    print(err)\n",
    "except ValueError:\n",
    "    print(\"Invalid input\")"
   ]
  },
  {
   "cell_type": "code",
   "execution_count": 74,
   "id": "e78bdc81-0c04-4c76-9731-328c233aa938",
   "metadata": {},
   "outputs": [
    {
     "name": "stdout",
     "output_type": "stream",
     "text": [
      "['goku - Front end\\n', 'Lekhya - Back end\\n', 'Maggi - Front end']\n",
      "['Maggi - Front end']\n"
     ]
    }
   ],
   "source": [
    "#reading from files(csv,txt,exe file)\n",
    "employeeFile = open(\"employees.txt\",\"r\")#reading from a file(r,w,a,r+ read and write)\n",
    "#print(employeeFile.readable())#readable fun ensures that whether file contents are there or not\n",
    "#print(employeeFile.read())#reads the content of the file\n",
    "#print(employeeFile.readline())#read just 1 line and move to next line. so to read next line u should use the readline again.\n",
    "print(employeeFile.readlines())# read the line in the form of array\n",
    "# for employee in employeeFile.readlines(): # print line by line\n",
    "#     print(employee)\n",
    "employeeFile.close()\n",
    "\n",
    "# employeeFile = open(r\"C:\\Users\\lakshmi.badathala\\Desktop\\Jupyter notebook\\Prep\\employees.txt\",\"a\")\n",
    "# employeeFile.write(\"Maggi - Front end\")\n",
    "# employeeFile.close()\n",
    "\n",
    "# employeeFile = open(\"employees1.txt\",\"w\")\n",
    "# employeeFile.write(\"Maggi - Front end\")\n",
    "# employeeFile.close()\n",
    "\n",
    "employeeFile = open(\"employees1.txt\",\"r\")\n",
    "print(employeeFile.readlines())\n",
    "employeeFile.close()"
   ]
  }
 ],
 "metadata": {
  "kernelspec": {
   "display_name": "Python 3 (ipykernel)",
   "language": "python",
   "name": "python3"
  },
  "language_info": {
   "codemirror_mode": {
    "name": "ipython",
    "version": 3
   },
   "file_extension": ".py",
   "mimetype": "text/x-python",
   "name": "python",
   "nbconvert_exporter": "python",
   "pygments_lexer": "ipython3",
   "version": "3.13.2"
  }
 },
 "nbformat": 4,
 "nbformat_minor": 5
}
